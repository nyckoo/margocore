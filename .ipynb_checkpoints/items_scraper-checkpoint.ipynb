{
 "cells": [
  {
   "cell_type": "code",
   "execution_count": 3,
   "metadata": {},
   "outputs": [],
   "source": [
    "from helpers import stats, weapon_types, prof_translator, item_translator, proffesions\n",
    "from game_structures import Item"
   ]
  },
  {
   "cell_type": "code",
   "execution_count": 4,
   "metadata": {},
   "outputs": [],
   "source": [
    "import csv\n",
    "\n",
    "# write to file serialized items\n",
    "def csvSerializer(items : list, item_type : str, output_file : str):\n",
    "    with open(output_file, \"w\", encoding='UTF8', newline='') as f:\n",
    "        writer = csv.writer(f)\n",
    "        writer.writerow(['lvl', 'prof', 'type', 'name', 'stats'])\n",
    "        for el in items:\n",
    "            # Split each item's data\n",
    "            split_lst = el['data-stat'].split(';')\n",
    "            # return & split by only those which contain '='\n",
    "            params = [p.split('=') for p in split_lst if \"=\" in p]\n",
    "            dct = {p[0] : p[1] for p in params}\n",
    "            # add key for lack of proffesion requirement\n",
    "            if 'reqp' not in dct:\n",
    "                dct['reqp'] = 'wpbhtm'\n",
    "            try:\n",
    "                single_item = Item(int(dct['lvl']),\n",
    "                    dct['reqp'], \n",
    "                    item_type, \n",
    "                    el['data-name'], \n",
    "                    {stats[p] : dct[p] for p in dct if p in stats})\n",
    "                #print(single_item.toList())\n",
    "                writer.writerow(single_item.toList())  \n",
    "            except KeyError:\n",
    "                print(f\"KeyError -> Item name: {el['data-name']}; stats:{el['data-stat']}\")\n"
   ]
  },
  {
   "cell_type": "code",
   "execution_count": 26,
   "metadata": {},
   "outputs": [],
   "source": [
    "import requests\n",
    "from bs4 import BeautifulSoup\n",
    "from time import sleep\n",
    "\n",
    "# Blade dancer url:\n",
    "#https://margohelp.pl/przedmioty/b/1/4/TancerzOstrzy/Jednor%C4%99czne/Heroiczne/1-150/\n",
    "# Paladin url:\n",
    "#https://margohelp.pl/przedmioty/p/1/4/Paladyn/Jednor%C4%99czne/Heroiczne/1-150/\n",
    "# Warrior url:\n",
    "#https://margohelp.pl/przedmioty/w/1/4/Wojownik/Jednor%C4%99czne/Heroiczne/1-150/\n",
    "# Mage url:\n",
    "#https://margohelp.pl/przedmioty/m/6/4/Mag/R%C3%B3%C5%BCd%C5%BCki/Heroiczne/1-150/\n",
    "# Tracker url:\n",
    "#https://margohelp.pl/przedmioty/t/4/4/Tropiciel/Dystansowe/Heroiczne/1-150/\n",
    "# Hunter url:\n",
    "#https://margohelp.pl/przedmioty/h/4/4/%C5%81owca/Dystansowe/Heroiczne/1-150/\n",
    "\n",
    "item_classes = {\n",
    "    4 : 'Heroiczne', # \"heroic\" class\n",
    "    8 : 'Legendarne' # \"legendary\" class\n",
    "}\n",
    "\n",
    "# Function for downloading each proffesion with their item type items in separate .csv file\n",
    "# type as arg. \"heroic\" to download heroic&legendary or \"legendary\" for this specific class\n",
    "def scrapeAndSaveData(item_class : str):\n",
    "    class_marks = list(item_classes.items())\n",
    "    if item_class == 'legendary':\n",
    "        final_class = class_marks[1]\n",
    "    else:\n",
    "        final_class = class_marks[0]\n",
    "    for key, vals in prof_translator.items():\n",
    "        for idx, acc in enumerate(vals):\n",
    "            page_items = []\n",
    "            for i in (0, 150):\n",
    "                sleep(.5)\n",
    "                page = requests.get(f\"https://margohelp.pl/przedmioty/{key[0]}/{acc}/{final_class[0]}/{proffesions[key[0]]}/{item_translator[acc]}/{final_class[1]}/{1+i}-{150+i}/\")\n",
    "                soup = BeautifulSoup(page.content, 'html.parser')\n",
    "                page_items.extend(soup.find_all(class_='item'))\n",
    "            csvSerializer(page_items, weapon_types[key][idx], f'items/{item_class}/{proffesions[key[0]]}_{item_translator[acc]}.csv')"
   ]
  },
  {
   "cell_type": "code",
   "execution_count": 27,
   "metadata": {},
   "outputs": [],
   "source": [
    "# Download items;\n",
    "# works with following folder paths:\n",
    "# ./items/heroic\n",
    "# ./items/legendary\n",
    "scrapeAndSaveData('legendary')"
   ]
  },
  {
   "cell_type": "code",
   "execution_count": null,
   "metadata": {},
   "outputs": [],
   "source": []
  }
 ],
 "metadata": {
  "kernelspec": {
   "display_name": "Python 3",
   "language": "python",
   "name": "python3"
  },
  "language_info": {
   "codemirror_mode": {
    "name": "ipython",
    "version": 3
   },
   "file_extension": ".py",
   "mimetype": "text/x-python",
   "name": "python",
   "nbconvert_exporter": "python",
   "pygments_lexer": "ipython3",
   "version": "3.8.5"
  }
 },
 "nbformat": 4,
 "nbformat_minor": 5
}
