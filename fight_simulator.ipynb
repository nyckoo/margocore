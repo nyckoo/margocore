{
 "cells": [
  {
   "cell_type": "markdown",
   "metadata": {},
   "source": [
    "### Fight Simulator Model; for later (requires specific knowledge of how stats are incremented each lvl)."
   ]
  },
  {
   "cell_type": "code",
   "execution_count": 4,
   "metadata": {},
   "outputs": [],
   "source": [
    "# Observed health points at given lvl from own characters:\n",
    "\n",
    "lvl_to_hp = {\n",
    "    '1-25': [20,51,90,134,182,234,290,348,410,474,540,609,680,753,828,905,983,1064,1146,1230,1315,1402,1490,1580,1671],\n",
    "    '51-56': [4455,4558,4679,4802,4943,5067],\n",
    "    '70': [6887],\n",
    "    '71': [7022],\n",
    "    '95': [10480],\n",
    "    '101': [11401],\n",
    "    '123-125': [14950, 15090, 15258]\n",
    "}\n",
    "\n",
    "def axes_creator(ob : dict):\n",
    "    hps = []\n",
    "    for val in ob.values():\n",
    "        hps.extend(val)\n",
    "        \n",
    "    lvls = []\n",
    "    for x in ob.keys():\n",
    "        lvl_arr = x.split(\"-\")\n",
    "        if len(lvl_arr) == 1:\n",
    "            lvls.append(int(lvl_arr[0]))\n",
    "        else:\n",
    "            for i in range(int(lvl_arr[0]), int(lvl_arr[1]) + 1):\n",
    "                lvls.append(int(i))\n",
    "    return lvls, hps\n",
    "    \n",
    "x, y = axes_creator(lvl_to_hp)"
   ]
  },
  {
   "cell_type": "code",
   "execution_count": 3,
   "metadata": {},
   "outputs": [
    {
     "data": {
      "text/plain": [
       "<seaborn.axisgrid.FacetGrid at 0x29d04cec430>"
      ]
     },
     "execution_count": 3,
     "metadata": {},
     "output_type": "execute_result"
    },
    {
     "data": {
      "image/png": "[encoded data removed]",
      "text/plain": [
       "<Figure size 360x360 with 1 Axes>"
      ]
     },
     "metadata": {
      "needs_background": "light"
     },
     "output_type": "display_data"
    }
   ],
   "source": [
    "import pandas as pd\n",
    "import seaborn as sns\n",
    "\n",
    "df = pd.DataFrame({'lvl': x, 'hp': y})\n",
    "sns.relplot(data=df, x='lvl', y='hp')"
   ]
  },
  {
   "cell_type": "code",
   "execution_count": null,
   "metadata": {},
   "outputs": [],
   "source": []
  }
 ],
 "metadata": {
  "kernelspec": {
   "display_name": "Python 3",
   "language": "python",
   "name": "python3"
  },
  "language_info": {
   "codemirror_mode": {
    "name": "ipython",
    "version": 3
   },
   "file_extension": ".py",
   "mimetype": "text/x-python",
   "name": "python",
   "nbconvert_exporter": "python",
   "pygments_lexer": "ipython3",
   "version": "3.8.5"
  }
 },
 "nbformat": 4,
 "nbformat_minor": 4
}
