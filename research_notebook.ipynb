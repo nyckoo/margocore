{
 "cells": [
  {
   "cell_type": "markdown",
   "metadata": {},
   "source": [
    "### No structure notebook;\n",
    "#### Space for testing & experiments"
   ]
  },
  {
   "cell_type": "code",
   "execution_count": null,
   "metadata": {},
   "outputs": [],
   "source": [
    "# Observed health points at given lvl from own characters:\n",
    "lvl_to_hp = {\n",
    "    '1-20': [20,51,90,134,182,234,290,348,410,474,540,609,680,753,828,905,983,1064,1146,1230],\n",
    "    '21-40':[1315,1402,1490,1580,1671,1764,1858,1953,2050,2148,2247,2344,2442,2551,2649,2754,2854,2973,3081,3190],\n",
    "    '41-46':[3288,3387,3512,3637,3751,3866],\n",
    "    '51-60': [4455,4558,4679,4802,4943,5067,5192,5317,5420,5571],\n",
    "    '70-75': [6887,7022,7159,7278,7416,7554],\n",
    "    '95': [10480],\n",
    "    '101': [11401],\n",
    "    '123-125': [14950, 15090, 15258]\n",
    "}\n",
    "\n",
    "# Function to create suitable axes data for seaborn plot\n",
    "def axes_creator(ob : dict):\n",
    "    hps = []\n",
    "    for val in ob.values():\n",
    "        hps.extend(val)\n",
    "        \n",
    "    lvls = []\n",
    "    for x in ob.keys():\n",
    "        lvl_arr = x.split(\"-\")\n",
    "        if len(lvl_arr) == 1:\n",
    "            lvls.append(int(lvl_arr[0]))\n",
    "        else:\n",
    "            for i in range(int(lvl_arr[0]), int(lvl_arr[1]) + 1):\n",
    "                lvls.append(int(i))\n",
    "    return lvls, hps\n",
    "    \n",
    "x, y = axes_creator(lvl_to_hp)"
   ]
  },
  {
   "cell_type": "code",
   "execution_count": null,
   "metadata": {},
   "outputs": [],
   "source": [
    "import pandas as pd\n",
    "import seaborn as sns\n",
    "\n",
    "# Seaborn plot\n",
    "df = pd.DataFrame({'lvl': x, 'hp': y})\n",
    "sns.relplot(data=df, x='lvl', y='hp')"
   ]
  },
  {
   "cell_type": "code",
   "execution_count": null,
   "metadata": {},
   "outputs": [],
   "source": [
    "# Testing data classes from game_structures\n",
    "from game_structures import *\n",
    "\n",
    "test_item = Item(30,'pw','ar','armor plate test name', \n",
    "    {\"armor\": 50, \"health_points\": 100, \"strength\": 40, \"speed_attack\" : 36, 'dodge': 10}\n",
    ")\n",
    "test_item.__repr__()\n",
    "test_eq = Eq()\n",
    "\n",
    "test_eq.add(test_item)\n",
    "print(test_eq.items,\" -> new item in eq object\")\n",
    "test_eq.add(Item(40,'pt','he','helmet test n.',\n",
    "    {\"armor\": 25, \"hp_regen\": 74, \"agility\": 111, \"attack_speed\": 0.24}\n",
    "))\n",
    "print(test_eq.items,\" -> 2nd item in eq object\")\n",
    "test_eq.add(Item(35,'pwb','ar','front armor plate',\n",
    "    {\"armor\": 56, \"health_points\": 142, \"hp_regen\": 64, \"strength\": 34, \"attack_speed\": 0.28}\n",
    "))\n",
    "print(test_eq.items,\" -> new added item replaced previous armor\")\n",
    "# check summed up statistics\n",
    "print(test_eq.stats)\n",
    "\n",
    "# Player object testing\n",
    "\n",
    "test_char = Character(100, 'm')\n",
    "test_char.__repr__()\n",
    "print(test_char.stats)\n",
    "\n",
    "Character.get_stats(50, 'p', test_eq.stats)\n",
    "\n"
   ]
  },
  {
   "cell_type": "code",
   "execution_count": null,
   "metadata": {},
   "outputs": [],
   "source": [
    "import os\n",
    "import csv\n",
    "\n",
    "def csv_creator(lvl : int, filename : str):\n",
    "    item_folder = os.listdir('items/')\n",
    "    for entry in item_folder:\n",
    "        if entry.endswith('.csv'):\n",
    "            with open('items/' + entry, encoding = 'utf-8') as fr:\n",
    "                try:\n",
    "                    csv_reader = csv.reader(fr)\n",
    "                    csv_reader.__next__()\n",
    "                    item_lines = []\n",
    "                    for line in csv_reader:\n",
    "                        #print(line)\n",
    "                        #lvl_chars = str(lvl)\n",
    "                        if lvl < 100:\n",
    "                            if int(line[0][:2]) < lvl:\n",
    "                                continue\n",
    "                            elif int(line[0][:2]) == lvl:\n",
    "                                item_lines.append(line)\n",
    "                            else:\n",
    "                                break\n",
    "                        else:\n",
    "                            if int(line[0][:3]) < lvl:\n",
    "                                continue\n",
    "                            elif int(line[0][:3]) == lvl:\n",
    "                                item_lines.append(line)\n",
    "                            else:\n",
    "                                break\n",
    "                except StopIteration:\n",
    "                    print(StopIteration)\n",
    "                finally:\n",
    "                    with open(filename, 'a', encoding = 'utf-8', newline='') as fw:\n",
    "                        csv_writer = csv.writer(fw)\n",
    "                        csv_writer.writerows(item_lines)\n",
    "\n",
    "csv_creator(101, \"items/_selected_items.csv\")"
   ]
  },
  {
   "cell_type": "code",
   "execution_count": 1,
   "metadata": {},
   "outputs": [
    {
     "ename": "TypeError",
     "evalue": "'Field' object does not support item assignment",
     "output_type": "error",
     "traceback": [
      "\u001b[1;31m---------------------------------------------------------------------------\u001b[0m",
      "\u001b[1;31mTypeError\u001b[0m                                 Traceback (most recent call last)",
      "\u001b[1;32mc:\\Users\\Nykko.DESKTOP-J2611HT\\Documents\\NIXT\\tests\\margo\\margocore\\research_notebook.ipynb Komórka 6\u001b[0m in \u001b[0;36m<cell line: 42>\u001b[1;34m()\u001b[0m\n\u001b[0;32m     <a href='vscode-notebook-cell:/c%3A/Users/Nykko.DESKTOP-J2611HT/Documents/NIXT/tests/margo/margocore/research_notebook.ipynb#W5sZmlsZQ%3D%3D?line=38'>39</a>\u001b[0m \u001b[39m# for x in sets_101:\u001b[39;00m\n\u001b[0;32m     <a href='vscode-notebook-cell:/c%3A/Users/Nykko.DESKTOP-J2611HT/Documents/NIXT/tests/margo/margocore/research_notebook.ipynb#W5sZmlsZQ%3D%3D?line=39'>40</a>\u001b[0m \u001b[39m#     print(f'{chars[x]} -> {chars[x].stats()}')\u001b[39;00m\n\u001b[0;32m     <a href='vscode-notebook-cell:/c%3A/Users/Nykko.DESKTOP-J2611HT/Documents/NIXT/tests/margo/margocore/research_notebook.ipynb#W5sZmlsZQ%3D%3D?line=40'>41</a>\u001b[0m F_Sim \u001b[39m=\u001b[39m FightSimulator([chars[\u001b[39m'\u001b[39m\u001b[39mt103\u001b[39m\u001b[39m'\u001b[39m], chars[\u001b[39m'\u001b[39m\u001b[39mp102\u001b[39m\u001b[39m'\u001b[39m]])\n\u001b[1;32m---> <a href='vscode-notebook-cell:/c%3A/Users/Nykko.DESKTOP-J2611HT/Documents/NIXT/tests/margo/margocore/research_notebook.ipynb#W5sZmlsZQ%3D%3D?line=41'>42</a>\u001b[0m F_Sim\u001b[39m.\u001b[39;49mstarting_stats(\u001b[39m102\u001b[39;49m)\n\u001b[0;32m     <a href='vscode-notebook-cell:/c%3A/Users/Nykko.DESKTOP-J2611HT/Documents/NIXT/tests/margo/margocore/research_notebook.ipynb#W5sZmlsZQ%3D%3D?line=42'>43</a>\u001b[0m F_Sim\u001b[39m.\u001b[39mstarting_stats(\u001b[39m103\u001b[39m)\n\u001b[0;32m     <a href='vscode-notebook-cell:/c%3A/Users/Nykko.DESKTOP-J2611HT/Documents/NIXT/tests/margo/margocore/research_notebook.ipynb#W5sZmlsZQ%3D%3D?line=43'>44</a>\u001b[0m \u001b[39mprint\u001b[39m(F_Sim\u001b[39m.\u001b[39m_stats_types[\u001b[39m0\u001b[39m])\n",
      "File \u001b[1;32mc:\\Users\\Nykko.DESKTOP-J2611HT\\Documents\\NIXT\\tests\\margo\\margocore\\game_structures.py:167\u001b[0m, in \u001b[0;36mFightSimulator.starting_stats\u001b[1;34m(self, enemy_lvl)\u001b[0m\n\u001b[0;32m    165\u001b[0m     char_stats \u001b[39m=\u001b[39m \u001b[39mself\u001b[39m\u001b[39m.\u001b[39mcharacters[char_idx]\u001b[39m.\u001b[39mstats()\n\u001b[0;32m    166\u001b[0m     opp_stats \u001b[39m=\u001b[39m \u001b[39mself\u001b[39m\u001b[39m.\u001b[39mcharacters[opp_idx]\u001b[39m.\u001b[39mstats()\n\u001b[1;32m--> 167\u001b[0m \u001b[39mself\u001b[39m\u001b[39m.\u001b[39m_stats_types[\u001b[39m'\u001b[39m\u001b[39mchar\u001b[39m\u001b[39m'\u001b[39m] \u001b[39m=\u001b[39m char_stats\n\u001b[0;32m    168\u001b[0m \u001b[39mself\u001b[39m\u001b[39m.\u001b[39m_stats_types[\u001b[39m'\u001b[39m\u001b[39mopp\u001b[39m\u001b[39m'\u001b[39m] \u001b[39m=\u001b[39m opp_stats\n\u001b[0;32m    169\u001b[0m \u001b[39m# Assigning all character stats (for now eq only)\u001b[39;00m\n",
      "\u001b[1;31mTypeError\u001b[0m: 'Field' object does not support item assignment"
     ]
    }
   ],
   "source": [
    "from pprint import pprint\n",
    "from game_structures import *\n",
    "import ast\n",
    "\n",
    "# Loading characters (eq from csv file)\n",
    "sets_101 = {\n",
    "    't103': ('Skrzący łęczar burzy', 'Strzały smoczego jeźdźca VI', 'Pustynna kolczuga mistrzów V', 'Maska oszalałej wdowy', 'Buty do tanga', 'Skinięcie Yin', 'Pieczęć siedmiu wynaturzeń', 'Symbol Wszelkich Przekształceń'),\n",
    "    'm102': ('Insygnium uwolnienia burzy VIII', 'Atrament wykładowcy', 'Kapa bagiennej aury', 'Kapelusz magicznej kapituły', 'Azurytowe cholewy nieumarłych', 'Rękawice kochanka Nocnej Kochanki', 'Pierścień rybiego oka', 'Klątwa leśnej niezapominajki'),\n",
    "    'p102': ('Skalpownik', 'Skorupa nieszczęścia VIII', 'Kurta światłego generała', 'Rogata żelazna przyłbica', 'Torfowa jurność stróża', 'Pamięć porażki', 'Zaręczynowy pierścionek arystokratki', 'Serce stepowe'),\n",
    "    'w101': ('Boleść złamanego serca', 'Tarcza cmentarnych lilii', 'Smoczy pancerz mistrzów V', 'Korona Margorii', 'Trybut ognistego bóstwa II', 'Łapy Ośmiu Trygramów', 'Oczko Duvy', 'Emanująca duma urgrapów'),\n",
    "    'h103': ('Bezszelestny łuk uciszania', 'Struny Deprawacji', 'Wibrująca ochrona pohańbionych', 'Czaszka Naruona', 'Żaroodporne podeszwy', 'Skinięcie Yang', 'Obrączka Różanity', 'Zaklęte padło jaskini'),\n",
    "    'b101': ('Skażony kindżał bandziora', 'Rozerwimord VIII', 'Karacena toskycznego ukąszenia', 'Maska porażającej niegodziwości', 'Płetwobuty', 'Zmutowane łapy królikoluda', 'Pradawny pierścień zniszczenia', 'Złota łza słońca')\n",
    "}\n",
    "\n",
    "def load_characters(chardata: dict, filename: str):\n",
    "    chars = {}\n",
    "    for key, val in chardata.items():\n",
    "        eq = Eq()\n",
    "        for x in val:\n",
    "            with open('items/' + filename, encoding = 'utf-8') as fr:\n",
    "                for _ in range(888):\n",
    "                    row_str = fr.readline().split(',', 4)\n",
    "                    try:\n",
    "                        if x == row_str[3]:\n",
    "                            x_row = '\"'.join(ast.literal_eval(row_str[4])).replace('\"','')\n",
    "                            new_item = Item(int(row_str[0]),row_str[1],row_str[2],row_str[3],eval(x_row))\n",
    "                            eq.add(new_item)\n",
    "                            break\n",
    "                    except IndexError:\n",
    "                        print(row_str)\n",
    "        new_char = Character(int(key[1:]), str(key[0]), eq.stats, eq.bonuses)\n",
    "        chars[f'{new_char.proffesion}{new_char.lvl}'] = new_char\n",
    "    return chars\n",
    "\n",
    "# Parse stats dict values into ints\n",
    "# Counts base params x2 (bug)\n",
    "chars = load_characters(sets_101, \"_selected_items.csv\")\n",
    "\n",
    "# for x in sets_101:\n",
    "#     print(f'{chars[x]} -> {chars[x].stats()}')\n",
    "F_Sim = FightSimulator([chars['t103'], chars['p102']])\n",
    "F_Sim.starting_stats(102)\n",
    "F_Sim.starting_stats(103)\n",
    "print(F_Sim._stats_types[0])\n",
    "print(F_Sim._stats_types[1])"
   ]
  },
  {
   "cell_type": "code",
   "execution_count": 2,
   "metadata": {},
   "outputs": [
    {
     "name": "stdout",
     "output_type": "stream",
     "text": [
      "--- CHAR --- info ---\n",
      "{'crit_strike': 12, 'physical_dmg': 1042.0, 'strength': 499, 'agility': 119, 'energy': 131, 'dodge': 20, 'attack_speed': 461, 'wound_dmg': 345, 'wound_chance': 17, 'armor': 1689, 'poison_resist': 20, 'block': 126, 'physical_crit': 36, 'health_points': 4393, 'dodge_reduction': 67, 'pierce_block': 60, 'light_resist': -4, 'strength_hp': 1, 'armor_reduction': 13, 'all_features': 80, 'fire_resist': -3, 'frost_resist': 3, 'crit_reduction': 4, 'as_reduction': 65, 'hp_regen': 270, 'mana': 20}\n",
      "{'crit_strike': 15.02, 'physical_dmg': 1042.0, 'strength': 1064, 'agility': 221, 'energy': 131, 'dodge': 27, 'attack_speed': 785, 'wound_dmg': 345, 'wound_chance': 17, 'armor': 1689, 'poison_resist': 20, 'block': 126, 'physical_crit': 177, 'health_points': 22178, 'dodge_reduction': 67, 'pierce_block': 60, 'light_resist': -4, 'strength_hp': 1, 'armor_reduction': 13, 'fire_resist': -3, 'frost_resist': 3, 'crit_reduction': 4, 'as_reduction': 65, 'hp_regen': 270, 'mana': 20, 'intellect': 83, 'magical_crit': 122}\n",
      "{'lastheal': 2, 'dmgred': 2}\n"
     ]
    }
   ],
   "source": [
    "from game_structures import *\n",
    "\n",
    "man_eq = Eq()\n",
    "\n",
    "items_stats = [\n",
    "{'crit_strike': '1', 'physical_dmg': '938-1146', 'strength': '60', 'agility': '60', 'energy': '17', 'dodge': '10', 'attack_speed': '33', 'wound_dmg': '17,345'},\n",
    "{'armor': '449', 'poison_resist': '5', 'block': '126', 'physical_crit': '6', 'energy': '17', 'health_points': '551', 'dodge_reduction': '10', 'pierce_block': '60', 'light_resist': '2', 'attack_speed': '33'},\n",
    "{'armor': '689', 'crit_strike': '1', 'strength': '60', 'energy': '17', 'health_points': '616', 'strength_hp': '1', 'dodge_reduction': '10', 'attack_speed': '58'},\n",
    "{'armor': '218', 'armor_reduction': '7', 'crit_strike': '2', 'physical_crit': '12', 'all_features': '32', 'strength': '57', 'energy': '16', 'health_points': '403', 'legendary_bonus': 'lastheal,95', 'dodge_reduction': '10', 'fire_resist': '-3', 'frost_resist': '3', 'attack_speed': '56'},\n",
    "{'armor': '179', 'strength': '154', 'crit_reduction': '2', 'dodge_reduction': '9', 'attack_speed': '53', 'as_reduction': '34'},\n",
    "{'armor': '154', 'crit_strike': '3', 'physical_crit': '6', 'strength': '54', 'energy': '16', 'health_points': '702', 'legendary_bonus': 'lastheal,90', 'dodge_reduction': '18', 'attack_speed': '53'},\n",
    "{'armor_reduction': '6', 'poison_resist': '10', 'crit_strike': '3', 'all_features': '48', 'energy': '15', 'hp_regen': '270', 'health_points': '930', 'legendary_bonus': 'dmgred,80', 'crit_reduction': '2', 'mana': '20', 'light_resist': '-6', 'attack_speed': '68', 'as_reduction': '31'},\n",
    "{'poison_resist': '5', 'crit_strike': '2', 'physical_crit': '12', 'strength': '114', 'agility': '59', 'energy': '33', 'dodge': '10', 'health_points': '1191', 'legendary_bonus': 'dmgred,99', 'dodge_reduction': '10', 'attack_speed': '107'}\n",
    "]\n",
    "\n",
    "acc_letters = ['1h', 'sh', 'ar', 'he', 'bo', 'gl', 'ri', 'ne']\n",
    "\n",
    "for i in range(len(items_stats)):\n",
    "    new_item = Item(100, 'w', acc_letters[i], acc_letters[i],items_stats[i])\n",
    "    #print(new_item.stats)\n",
    "    man_eq.add(new_item)\n",
    "\n",
    "# print('--- EQ --- info ---')\n",
    "# print(man_eq.stats)\n",
    "# print(man_eq.items)\n",
    "# print(man_eq.bonuses)\n",
    "man_char = Character(101, 'w', man_eq.stats, man_eq.bonuses)\n",
    "print('--- CHAR --- info ---')\n",
    "print(man_char.eq_stats)\n",
    "print(man_char.stats())\n",
    "print(man_char.bonuses)"
   ]
  }
 ],
 "metadata": {
  "kernelspec": {
   "display_name": "Python 3.9.6 64-bit",
   "language": "python",
   "name": "python3"
  },
  "language_info": {
   "codemirror_mode": {
    "name": "ipython",
    "version": 3
   },
   "file_extension": ".py",
   "mimetype": "text/x-python",
   "name": "python",
   "nbconvert_exporter": "python",
   "pygments_lexer": "ipython3",
   "version": "3.9.6"
  },
  "vscode": {
   "interpreter": {
    "hash": "c421fbc077ae3db82051884d33a5aee417fbc5d69be8124cfc7b4a0050d35022"
   }
  }
 },
 "nbformat": 4,
 "nbformat_minor": 4
}
