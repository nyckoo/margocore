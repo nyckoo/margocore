{
 "cells": [
  {
   "cell_type": "markdown",
   "metadata": {},
   "source": [
    "### No structure notebook;\n",
    "#### Space for testing & experiments"
   ]
  },
  {
   "cell_type": "code",
   "execution_count": 1,
   "metadata": {},
   "outputs": [],
   "source": [
    "# Observed health points at given lvl from own characters:\n",
    "lvl_to_hp = {\n",
    "    '1-20': [20,51,90,134,182,234,290,348,410,474,540,609,680,753,828,905,983,1064,1146,1230],\n",
    "    '21-40':[1315,1402,1490,1580,1671,1764,1858,1953,2050,2148,2247,2344,2442,2551,2649,2754,2854,2973,3081,3190],\n",
    "    '41-44':[3288,3387,3512,3637],\n",
    "    '51-57': [4455,4558,4679,4802,4943,5067,5192],\n",
    "    '70-73': [6887,7022,7159,7278],\n",
    "    '95': [10480],\n",
    "    '101': [11401],\n",
    "    '123-125': [14950, 15090, 15258]\n",
    "}\n",
    "\n",
    "# Function to create suitable axes data for seaborn plot\n",
    "def axes_creator(ob : dict):\n",
    "    hps = []\n",
    "    for val in ob.values():\n",
    "        hps.extend(val)\n",
    "        \n",
    "    lvls = []\n",
    "    for x in ob.keys():\n",
    "        lvl_arr = x.split(\"-\")\n",
    "        if len(lvl_arr) == 1:\n",
    "            lvls.append(int(lvl_arr[0]))\n",
    "        else:\n",
    "            for i in range(int(lvl_arr[0]), int(lvl_arr[1]) + 1):\n",
    "                lvls.append(int(i))\n",
    "    return lvls, hps\n",
    "    \n",
    "x, y = axes_creator(lvl_to_hp)"
   ]
  },
  {
   "cell_type": "code",
   "execution_count": 3,
   "metadata": {},
   "outputs": [
    {
     "data": {
      "text/plain": [
       "<seaborn.axisgrid.FacetGrid at 0x2c860bedb50>"
      ]
     },
     "execution_count": 3,
     "metadata": {},
     "output_type": "execute_result"
    },
    {
     "data": {
      "image/png": "[encoded data removed]",
      "text/plain": [
       "<Figure size 360x360 with 1 Axes>"
      ]
     },
     "metadata": {
      "needs_background": "light"
     },
     "output_type": "display_data"
    }
   ],
   "source": [
    "import pandas as pd\n",
    "import seaborn as sns\n",
    "\n",
    "# Seaborn plot\n",
    "df = pd.DataFrame({'lvl': x, 'hp': y})\n",
    "sns.relplot(data=df, x='lvl', y='hp')"
   ]
  },
  {
   "cell_type": "code",
   "execution_count": 1,
   "metadata": {},
   "outputs": [
    {
     "name": "stdout",
     "output_type": "stream",
     "text": [
      "[30/pw/ar/armor plate test name]  -> new item in eq object\n",
      "[30/pw/ar/armor plate test name, 40/pt/he/helmet test n.]  -> 2nd item in eq object\n",
      "[40/pt/he/helmet test n., 35/pwb/ar/front armor plate]  -> new added item replaced previous armor\n",
      "{'armor': 81, 'speed_attack': 48, 'hp_regen': 138, 'all_features': 22, 'hp': 142, 'strength': 34}\n"
     ]
    },
    {
     "data": {
      "text/plain": [
       "'fbf0c7ce41/100/m'"
      ]
     },
     "execution_count": 1,
     "metadata": {},
     "output_type": "execute_result"
    }
   ],
   "source": [
    "# Testing data classes from game_structures\n",
    "from game_structures import *\n",
    "\n",
    "test_item = Item(30,'pw','ar','armor plate test name', {\"armor\": 50, \"hp\": 100, \"strength\": 40, \"speed_attack\" : 36})\n",
    "test_item.__repr__()\n",
    "test_eq = Eq()\n",
    "\n",
    "test_eq.add(test_item)\n",
    "print(test_eq.items,\" -> new item in eq object\")\n",
    "test_eq.add(Item(40,'pt','he','helmet test n.',{\"armor\": 25, \"hp_regen\": 74, \"all_features\": 22, \"speed_attack\": 24}))\n",
    "print(test_eq.items,\" -> 2nd item in eq object\")\n",
    "test_eq.add(Item(35,'pwb','ar','front armor plate',{\"armor\": 56, \"hp\": 142, \"hp_regen\": 64, \"strength\": 34, \"speed_attack\": 24}))\n",
    "print(test_eq.items,\" -> new added item replaced previous armor\")\n",
    "# check summed up statistics\n",
    "print(test_eq.stats)\n",
    "\n",
    "# Player object testing\n",
    "\n",
    "test_player = Player(100, 'm', {}, {})\n",
    "test_player.__repr__()"
   ]
  },
  {
   "cell_type": "code",
   "execution_count": null,
   "metadata": {},
   "outputs": [],
   "source": []
  }
 ],
 "metadata": {
  "kernelspec": {
   "display_name": "Python 3.9.6 64-bit",
   "language": "python",
   "name": "python3"
  },
  "language_info": {
   "codemirror_mode": {
    "name": "ipython",
    "version": 3
   },
   "file_extension": ".py",
   "mimetype": "text/x-python",
   "name": "python",
   "nbconvert_exporter": "python",
   "pygments_lexer": "ipython3",
   "version": "3.9.6"
  },
  "vscode": {
   "interpreter": {
    "hash": "c421fbc077ae3db82051884d33a5aee417fbc5d69be8124cfc7b4a0050d35022"
   }
  }
 },
 "nbformat": 4,
 "nbformat_minor": 4
}
